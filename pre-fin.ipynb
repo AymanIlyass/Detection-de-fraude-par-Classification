{
 "cells": [
  {
   "cell_type": "markdown",
   "metadata": {},
   "source": [
    "# Data Analysis"
   ]
  },
  {
   "cell_type": "code",
   "execution_count": 1,
   "metadata": {},
   "outputs": [],
   "source": [
    "import pandas as pd\n",
    "import numpy as np\n",
    "import matplotlib.pyplot as plt"
   ]
  },
  {
   "cell_type": "markdown",
   "metadata": {},
   "source": [
    "### - Reading and preprocessing data"
   ]
  },
  {
   "cell_type": "code",
   "execution_count": 2,
   "metadata": {},
   "outputs": [],
   "source": [
    "link_df = \"Dataset1.xlsx\""
   ]
  },
  {
   "cell_type": "code",
   "execution_count": 3,
   "metadata": {},
   "outputs": [
    {
     "data": {
      "text/html": [
       "<div>\n",
       "<style scoped>\n",
       "    .dataframe tbody tr th:only-of-type {\n",
       "        vertical-align: middle;\n",
       "    }\n",
       "\n",
       "    .dataframe tbody tr th {\n",
       "        vertical-align: top;\n",
       "    }\n",
       "\n",
       "    .dataframe thead th {\n",
       "        text-align: right;\n",
       "    }\n",
       "</style>\n",
       "<table border=\"1\" class=\"dataframe\">\n",
       "  <thead>\n",
       "    <tr style=\"text-align: right;\">\n",
       "      <th></th>\n",
       "      <th>Num_escale</th>\n",
       "      <th>Num_Vehicule</th>\n",
       "      <th>Num_REMORQUE</th>\n",
       "      <th>Num_Client</th>\n",
       "      <th>Date_entrée</th>\n",
       "      <th>Heure_entrée</th>\n",
       "      <th>Date_sortie</th>\n",
       "      <th>Heure_sortie</th>\n",
       "      <th>Poids_chargé</th>\n",
       "      <th>Poids_vide</th>\n",
       "      <th>Pont_entrée</th>\n",
       "      <th>pont_Sortie</th>\n",
       "      <th>Produit</th>\n",
       "    </tr>\n",
       "  </thead>\n",
       "  <tbody>\n",
       "    <tr>\n",
       "      <th>0</th>\n",
       "      <td>Escale105</td>\n",
       "      <td>Vehicule1</td>\n",
       "      <td>Remorque1</td>\n",
       "      <td>Client1</td>\n",
       "      <td>2020-01-02</td>\n",
       "      <td>08:48</td>\n",
       "      <td>2020-01-02</td>\n",
       "      <td>06:58</td>\n",
       "      <td>43220</td>\n",
       "      <td>15760</td>\n",
       "      <td>14</td>\n",
       "      <td>14.0</td>\n",
       "      <td>TRTX DE SOJA</td>\n",
       "    </tr>\n",
       "    <tr>\n",
       "      <th>1</th>\n",
       "      <td>Escale106</td>\n",
       "      <td>Vehicule2</td>\n",
       "      <td>Remorque2</td>\n",
       "      <td>Client1</td>\n",
       "      <td>2020-01-02</td>\n",
       "      <td>08:47</td>\n",
       "      <td>2020-01-02</td>\n",
       "      <td>07:00</td>\n",
       "      <td>42460</td>\n",
       "      <td>16480</td>\n",
       "      <td>17</td>\n",
       "      <td>17.0</td>\n",
       "      <td>PULPE DE BETTRAVE</td>\n",
       "    </tr>\n",
       "    <tr>\n",
       "      <th>2</th>\n",
       "      <td>Escale106</td>\n",
       "      <td>Vehicule3</td>\n",
       "      <td>Remorque3</td>\n",
       "      <td>Client1</td>\n",
       "      <td>2020-01-02</td>\n",
       "      <td>11:17</td>\n",
       "      <td>2020-01-02</td>\n",
       "      <td>07:02</td>\n",
       "      <td>42940</td>\n",
       "      <td>16600</td>\n",
       "      <td>17</td>\n",
       "      <td>17.0</td>\n",
       "      <td>PULPE DE BETTRAVE</td>\n",
       "    </tr>\n",
       "    <tr>\n",
       "      <th>3</th>\n",
       "      <td>Escale105</td>\n",
       "      <td>Vehicule4</td>\n",
       "      <td>Remorque4</td>\n",
       "      <td>Client1</td>\n",
       "      <td>2020-01-02</td>\n",
       "      <td>08:46</td>\n",
       "      <td>2020-01-02</td>\n",
       "      <td>07:03</td>\n",
       "      <td>42560</td>\n",
       "      <td>14700</td>\n",
       "      <td>14</td>\n",
       "      <td>14.0</td>\n",
       "      <td>TRTX DE SOJA</td>\n",
       "    </tr>\n",
       "    <tr>\n",
       "      <th>4</th>\n",
       "      <td>Escale106</td>\n",
       "      <td>Vehicule5</td>\n",
       "      <td>Remorque5</td>\n",
       "      <td>Client1</td>\n",
       "      <td>2020-01-02</td>\n",
       "      <td>10:05</td>\n",
       "      <td>2020-01-02</td>\n",
       "      <td>07:03</td>\n",
       "      <td>42020</td>\n",
       "      <td>16300</td>\n",
       "      <td>17</td>\n",
       "      <td>17.0</td>\n",
       "      <td>PULPE DE BETTRAVE</td>\n",
       "    </tr>\n",
       "  </tbody>\n",
       "</table>\n",
       "</div>"
      ],
      "text/plain": [
       "  Num_escale Num_Vehicule Num_REMORQUE Num_Client Date_entrée Heure_entrée  \\\n",
       "0  Escale105    Vehicule1    Remorque1    Client1  2020-01-02        08:48   \n",
       "1  Escale106    Vehicule2    Remorque2    Client1  2020-01-02        08:47   \n",
       "2  Escale106    Vehicule3    Remorque3    Client1  2020-01-02        11:17   \n",
       "3  Escale105    Vehicule4    Remorque4    Client1  2020-01-02        08:46   \n",
       "4  Escale106    Vehicule5    Remorque5    Client1  2020-01-02        10:05   \n",
       "\n",
       "  Date_sortie Heure_sortie  Poids_chargé  Poids_vide  Pont_entrée  \\\n",
       "0  2020-01-02        06:58         43220       15760           14   \n",
       "1  2020-01-02        07:00         42460       16480           17   \n",
       "2  2020-01-02        07:02         42940       16600           17   \n",
       "3  2020-01-02        07:03         42560       14700           14   \n",
       "4  2020-01-02        07:03         42020       16300           17   \n",
       "\n",
       "   pont_Sortie            Produit  \n",
       "0         14.0       TRTX DE SOJA  \n",
       "1         17.0  PULPE DE BETTRAVE  \n",
       "2         17.0  PULPE DE BETTRAVE  \n",
       "3         14.0       TRTX DE SOJA  \n",
       "4         17.0  PULPE DE BETTRAVE  "
      ]
     },
     "execution_count": 3,
     "metadata": {},
     "output_type": "execute_result"
    }
   ],
   "source": [
    "df = pd.read_excel(link_df)\n",
    "df.head()"
   ]
  },
  {
   "cell_type": "markdown",
   "metadata": {},
   "source": [
    "### - Handling missing values"
   ]
  },
  {
   "cell_type": "code",
   "execution_count": 4,
   "metadata": {},
   "outputs": [],
   "source": [
    "pont_Sortie_missing_indices = df[df[\"pont_Sortie\"].isna()][\"Pont_entrée\"].index"
   ]
  },
  {
   "cell_type": "code",
   "execution_count": 5,
   "metadata": {},
   "outputs": [
    {
     "name": "stderr",
     "output_type": "stream",
     "text": [
      "C:\\Users\\Ayoub\\anaconda3\\lib\\site-packages\\ipykernel_launcher.py:1: SettingWithCopyWarning: \n",
      "A value is trying to be set on a copy of a slice from a DataFrame\n",
      "\n",
      "See the caveats in the documentation: https://pandas.pydata.org/pandas-docs/stable/user_guide/indexing.html#returning-a-view-versus-a-copy\n",
      "  \"\"\"Entry point for launching an IPython kernel.\n"
     ]
    }
   ],
   "source": [
    "df[\"pont_Sortie\"][pont_Sortie_missing_indices]=df[\"Pont_entrée\"][pont_Sortie_missing_indices]"
   ]
  },
  {
   "cell_type": "code",
   "execution_count": 6,
   "metadata": {},
   "outputs": [],
   "source": [
    "df=df.dropna()"
   ]
  },
  {
   "cell_type": "markdown",
   "metadata": {},
   "source": [
    "### - Swap column names"
   ]
  },
  {
   "cell_type": "code",
   "execution_count": 7,
   "metadata": {},
   "outputs": [],
   "source": [
    "df=df.rename(columns={'Heure_entrée': 'Heure_sortie', 'Heure_sortie':'Heure_entrée'})"
   ]
  },
  {
   "cell_type": "code",
   "execution_count": 8,
   "metadata": {},
   "outputs": [],
   "source": [
    "cols = df.columns.tolist()"
   ]
  },
  {
   "cell_type": "code",
   "execution_count": 9,
   "metadata": {},
   "outputs": [],
   "source": [
    "cols = ['Num_escale',\n",
    " 'Num_Vehicule',\n",
    " 'Num_REMORQUE',\n",
    " 'Num_Client',\n",
    " 'Date_entrée',\n",
    " 'Heure_entrée',\n",
    " 'Date_sortie',\n",
    " 'Heure_sortie',\n",
    " 'Poids_chargé',\n",
    " 'Poids_vide',\n",
    " 'Pont_entrée',\n",
    " 'pont_Sortie',\n",
    " 'Produit']"
   ]
  },
  {
   "cell_type": "code",
   "execution_count": 10,
   "metadata": {},
   "outputs": [],
   "source": [
    "df=df[cols]"
   ]
  },
  {
   "cell_type": "code",
   "execution_count": null,
   "metadata": {},
   "outputs": [],
   "source": []
  },
  {
   "cell_type": "markdown",
   "metadata": {},
   "source": [
    "**1. Calcul du poids à vide (chauffeur inclut) minimale observée et l’analyse de la distribution**"
   ]
  },
  {
   "cell_type": "code",
   "execution_count": 11,
   "metadata": {},
   "outputs": [
    {
     "data": {
      "text/plain": [
       "3760"
      ]
     },
     "execution_count": 11,
     "metadata": {},
     "output_type": "execute_result"
    }
   ],
   "source": [
    "P_vide = df.Poids_vide\n",
    "P_vide.min()"
   ]
  },
  {
   "cell_type": "code",
   "execution_count": 47,
   "metadata": {},
   "outputs": [
    {
     "data": {
      "text/plain": [
       "count    70606.000000\n",
       "mean     16120.716086\n",
       "std        833.669475\n",
       "min       3760.000000\n",
       "25%      15620.000000\n",
       "50%      16100.000000\n",
       "75%      16620.000000\n",
       "max      19960.000000\n",
       "Name: Poids_vide, dtype: float64"
      ]
     },
     "execution_count": 47,
     "metadata": {},
     "output_type": "execute_result"
    }
   ],
   "source": [
    "P_vide.describe()"
   ]
  },
  {
   "cell_type": "code",
   "execution_count": 50,
   "metadata": {},
   "outputs": [
    {
     "name": "stderr",
     "output_type": "stream",
     "text": [
      "C:\\Users\\Ayoub\\anaconda3\\lib\\site-packages\\pandas\\plotting\\_matplotlib\\hist.py:59: MatplotlibDeprecationWarning: \n",
      "The 'normed' kwarg was deprecated in Matplotlib 2.1 and will be removed in 3.1. Use 'density' instead.\n",
      "  n, bins, patches = ax.hist(y, bins=bins, bottom=bottom, **kwds)\n"
     ]
    },
    {
     "data": {
      "text/plain": [
       "<matplotlib.axes._subplots.AxesSubplot at 0x20313a11408>"
      ]
     },
     "execution_count": 50,
     "metadata": {},
     "output_type": "execute_result"
    },
    {
     "data": {
      "image/png": "[encoded data removed]",
      "text/plain": [
       "<Figure size 432x288 with 1 Axes>"
      ]
     },
     "metadata": {
      "needs_background": "light"
     },
     "output_type": "display_data"
    }
   ],
   "source": [
    "P_vide.plot(kind = \"hist\", normed = True, color = \"lightgrey\")\n",
    "P_vide.plot(kind = \"kde\")"
   ]
  },
  {
   "cell_type": "code",
   "execution_count": 55,
   "metadata": {},
   "outputs": [
    {
     "data": {
      "text/plain": [
       "<matplotlib.axes._subplots.AxesSubplot at 0x2031999aac8>"
      ]
     },
     "execution_count": 55,
     "metadata": {},
     "output_type": "execute_result"
    },
    {
     "data": {
      "image/png": "[encoded data removed]",
      "text/plain": [
       "<Figure size 432x288 with 1 Axes>"
      ]
     },
     "metadata": {
      "needs_background": "light"
     },
     "output_type": "display_data"
    }
   ],
   "source": [
    "df.boxplot(column = \"Poids_vide\",grid=False)"
   ]
  },
  {
   "cell_type": "code",
   "execution_count": 48,
   "metadata": {},
   "outputs": [
    {
     "data": {
      "text/plain": [
       "NormaltestResult(statistic=8434.722841029095, pvalue=0.0)"
      ]
     },
     "execution_count": 48,
     "metadata": {},
     "output_type": "execute_result"
    }
   ],
   "source": [
    "import scipy.stats\n",
    "scipy.stats.normaltest(P_vide)"
   ]
  },
  {
   "cell_type": "code",
   "execution_count": 49,
   "metadata": {},
   "outputs": [
    {
     "name": "stderr",
     "output_type": "stream",
     "text": [
      "C:\\Users\\Ayoub\\anaconda3\\lib\\site-packages\\scipy\\stats\\morestats.py:1676: UserWarning: p-value may not be accurate for N > 5000.\n",
      "  warnings.warn(\"p-value may not be accurate for N > 5000.\")\n"
     ]
    },
    {
     "data": {
      "text/plain": [
       "(0.9822229146957397, 0.0)"
      ]
     },
     "execution_count": 49,
     "metadata": {},
     "output_type": "execute_result"
    }
   ],
   "source": [
    "scipy.stats.shapiro(P_vide)"
   ]
  },
  {
   "cell_type": "markdown",
   "metadata": {},
   "source": [
    "**2. Identifier l’écart type par couple véhicule / remorque**"
   ]
  },
  {
   "cell_type": "code",
   "execution_count": 13,
   "metadata": {},
   "outputs": [
    {
     "data": {
      "text/plain": [
       "Num_Vehicule  Num_REMORQUE\n",
       "Vehicule1     Remorque1       126.867559\n",
       "              Remorque2001           NaN\n",
       "              Remorque3214     70.710678\n",
       "              Remorque3234     34.156503\n",
       "Vehicule10    Remorque10      117.804953\n",
       "Name: Poids_vide, dtype: float64"
      ]
     },
     "execution_count": 13,
     "metadata": {},
     "output_type": "execute_result"
    }
   ],
   "source": [
    "newT = df.Poids_vide\n",
    "couple1 = [df.Num_Vehicule, df.Num_REMORQUE]\n",
    "newC = newT.groupby(couple1).std()\n",
    "newC.head()"
   ]
  },
  {
   "cell_type": "markdown",
   "metadata": {},
   "source": [
    "**3. Proposer un écart logique : *+ 150 kg de plus que poids minimal observé* : nous supposons que le chauffeur ne peut venir avec un réservoir vide mais avec un minimum de carburant pour rouler. Le plein maximal est de 400 kg**"
   ]
  },
  {
   "cell_type": "code",
   "execution_count": 14,
   "metadata": {},
   "outputs": [
    {
     "data": {
      "text/plain": [
       "135.43425360226152"
      ]
     },
     "execution_count": 14,
     "metadata": {},
     "output_type": "execute_result"
    }
   ],
   "source": [
    "std_by_rem = df.groupby(df.Num_REMORQUE).std().Poids_vide\n",
    "std_by_rem.mean()"
   ]
  },
  {
   "cell_type": "markdown",
   "metadata": {},
   "source": [
    "*On calcue le poids moyen des extensions, ce dernier vaut la déviation standard des poids_vide %num_remorque, on obtient alors 135,43 kg, on prend après 150kg, puis on aura:*"
   ]
  },
  {
   "cell_type": "markdown",
   "metadata": {},
   "source": [
    "*l'écart logique = poids_minimal_observé + moyenne_extensions = 3760 + 150 =* **3910 kg**"
   ]
  },
  {
   "cell_type": "markdown",
   "metadata": {},
   "source": [
    "__4. Proposer des classifications par écart-type : Exemple :__\n",
    "    1. Liste noire : camions venant avec 2 fois écart type\n",
    "    2. Liste rouge : camions venant avec 1 fois écart type\n",
    "    3. Liste jaune : camions venant avec + 150 kg de plus que le poids à vide minima observée"
   ]
  },
  {
   "cell_type": "code",
   "execution_count": 15,
   "metadata": {},
   "outputs": [
    {
     "name": "stdout",
     "output_type": "stream",
     "text": [
      "L'écart type par Num_Remorque vaut: \n",
      " Num_REMORQUE\n",
      "Remorque1       127.833289\n",
      "Remorque10      119.402573\n",
      "Remorque100     219.553326\n",
      "Remorque1000           NaN\n",
      "Remorque1001     84.852814\n",
      "                   ...    \n",
      "Remorque995      82.342443\n",
      "Remorque996     203.061095\n",
      "Remorque997            NaN\n",
      "Remorque998            NaN\n",
      "Remorque999     113.137085\n",
      "Name: Poids_vide, Length: 4189, dtype: float64\n"
     ]
    }
   ],
   "source": [
    "écart_type = std_by_rem\n",
    "print(\"L'écart type par Num_Remorque vaut: \\n\",écart_type)"
   ]
  },
  {
   "cell_type": "code",
   "execution_count": 16,
   "metadata": {},
   "outputs": [
    {
     "data": {
      "text/plain": [
       "count    70606.000000\n",
       "mean     16120.716086\n",
       "std        833.669475\n",
       "min       3760.000000\n",
       "25%      15620.000000\n",
       "50%      16100.000000\n",
       "75%      16620.000000\n",
       "max      19960.000000\n",
       "Name: Poids_vide, dtype: float64"
      ]
     },
     "execution_count": 16,
     "metadata": {},
     "output_type": "execute_result"
    }
   ],
   "source": [
    "P_vide.describe()"
   ]
  },
  {
   "cell_type": "code",
   "execution_count": 17,
   "metadata": {},
   "outputs": [
    {
     "data": {
      "text/plain": [
       "Num_REMORQUE\n",
       "Remorque1       15360\n",
       "Remorque10      15600\n",
       "Remorque100     15540\n",
       "Remorque1000    16380\n",
       "Remorque1001    15840\n",
       "                ...  \n",
       "Remorque995     15060\n",
       "Remorque996     15380\n",
       "Remorque997     15920\n",
       "Remorque998     14900\n",
       "Remorque999     16040\n",
       "Name: Poids_vide, Length: 4189, dtype: int64"
      ]
     },
     "execution_count": 17,
     "metadata": {},
     "output_type": "execute_result"
    }
   ],
   "source": [
    "min_by_rem = df.groupby(\"Num_REMORQUE\").min().Poids_vide\n",
    "min_by_rem"
   ]
  },
  {
   "cell_type": "code",
   "execution_count": 18,
   "metadata": {},
   "outputs": [
    {
     "name": "stderr",
     "output_type": "stream",
     "text": [
      "C:\\Users\\Ayoub\\anaconda3\\lib\\site-packages\\ipykernel_launcher.py:10: RuntimeWarning: invalid value encountered in greater\n",
      "  # Remove the CWD from sys.path while we load stuff.\n",
      "C:\\Users\\Ayoub\\anaconda3\\lib\\site-packages\\ipykernel_launcher.py:11: RuntimeWarning: invalid value encountered in greater\n",
      "  # This is added back by InteractiveShellApp.init_path()\n"
     ]
    }
   ],
   "source": [
    "noir = list()\n",
    "rouge = list()\n",
    "jaune = list()\n",
    "\n",
    "for idx, line in df.iterrows():\n",
    "    num_rem = line['Num_REMORQUE']\n",
    "    deviation = line['Poids_vide'] - min_by_rem[num_rem]\n",
    "    if isinstance(std_by_rem[num_rem], float):\n",
    "        jaune.append(deviation > 150)\n",
    "        rouge.append(deviation > std_by_rem[num_rem])\n",
    "        noir.append(deviation > 2 * std_by_rem[num_rem])"
   ]
  },
  {
   "cell_type": "code",
   "execution_count": 19,
   "metadata": {},
   "outputs": [
    {
     "data": {
      "text/html": [
       "<div>\n",
       "<style scoped>\n",
       "    .dataframe tbody tr th:only-of-type {\n",
       "        vertical-align: middle;\n",
       "    }\n",
       "\n",
       "    .dataframe tbody tr th {\n",
       "        vertical-align: top;\n",
       "    }\n",
       "\n",
       "    .dataframe thead th {\n",
       "        text-align: right;\n",
       "    }\n",
       "</style>\n",
       "<table border=\"1\" class=\"dataframe\">\n",
       "  <thead>\n",
       "    <tr style=\"text-align: right;\">\n",
       "      <th></th>\n",
       "      <th>Liste noir</th>\n",
       "      <th>Liste rouge</th>\n",
       "      <th>Liste jaune</th>\n",
       "    </tr>\n",
       "  </thead>\n",
       "  <tbody>\n",
       "    <tr>\n",
       "      <th>0</th>\n",
       "      <td>True</td>\n",
       "      <td>True</td>\n",
       "      <td>True</td>\n",
       "    </tr>\n",
       "    <tr>\n",
       "      <th>1</th>\n",
       "      <td>False</td>\n",
       "      <td>True</td>\n",
       "      <td>False</td>\n",
       "    </tr>\n",
       "    <tr>\n",
       "      <th>2</th>\n",
       "      <td>True</td>\n",
       "      <td>True</td>\n",
       "      <td>True</td>\n",
       "    </tr>\n",
       "    <tr>\n",
       "      <th>3</th>\n",
       "      <td>False</td>\n",
       "      <td>True</td>\n",
       "      <td>True</td>\n",
       "    </tr>\n",
       "    <tr>\n",
       "      <th>4</th>\n",
       "      <td>True</td>\n",
       "      <td>True</td>\n",
       "      <td>True</td>\n",
       "    </tr>\n",
       "    <tr>\n",
       "      <th>...</th>\n",
       "      <td>...</td>\n",
       "      <td>...</td>\n",
       "      <td>...</td>\n",
       "    </tr>\n",
       "    <tr>\n",
       "      <th>70601</th>\n",
       "      <td>False</td>\n",
       "      <td>True</td>\n",
       "      <td>True</td>\n",
       "    </tr>\n",
       "    <tr>\n",
       "      <th>70602</th>\n",
       "      <td>True</td>\n",
       "      <td>True</td>\n",
       "      <td>True</td>\n",
       "    </tr>\n",
       "    <tr>\n",
       "      <th>70603</th>\n",
       "      <td>False</td>\n",
       "      <td>False</td>\n",
       "      <td>False</td>\n",
       "    </tr>\n",
       "    <tr>\n",
       "      <th>70604</th>\n",
       "      <td>True</td>\n",
       "      <td>True</td>\n",
       "      <td>True</td>\n",
       "    </tr>\n",
       "    <tr>\n",
       "      <th>70605</th>\n",
       "      <td>False</td>\n",
       "      <td>True</td>\n",
       "      <td>False</td>\n",
       "    </tr>\n",
       "  </tbody>\n",
       "</table>\n",
       "<p>70606 rows × 3 columns</p>\n",
       "</div>"
      ],
      "text/plain": [
       "       Liste noir  Liste rouge  Liste jaune\n",
       "0            True         True         True\n",
       "1           False         True        False\n",
       "2            True         True         True\n",
       "3           False         True         True\n",
       "4            True         True         True\n",
       "...           ...          ...          ...\n",
       "70601       False         True         True\n",
       "70602        True         True         True\n",
       "70603       False        False        False\n",
       "70604        True         True         True\n",
       "70605       False         True        False\n",
       "\n",
       "[70606 rows x 3 columns]"
      ]
     },
     "execution_count": 19,
     "metadata": {},
     "output_type": "execute_result"
    }
   ],
   "source": [
    "data = {\"Liste noir\": noir, \"Liste rouge\": rouge, \"Liste jaune\": jaune }\n",
    "listes_df = pd.DataFrame.from_dict(data)\n",
    "listes_df"
   ]
  },
  {
   "cell_type": "code",
   "execution_count": 20,
   "metadata": {},
   "outputs": [
    {
     "data": {
      "text/html": [
       "<div>\n",
       "<style scoped>\n",
       "    .dataframe tbody tr th:only-of-type {\n",
       "        vertical-align: middle;\n",
       "    }\n",
       "\n",
       "    .dataframe tbody tr th {\n",
       "        vertical-align: top;\n",
       "    }\n",
       "\n",
       "    .dataframe thead th {\n",
       "        text-align: right;\n",
       "    }\n",
       "</style>\n",
       "<table border=\"1\" class=\"dataframe\">\n",
       "  <thead>\n",
       "    <tr style=\"text-align: right;\">\n",
       "      <th></th>\n",
       "      <th>Num_escale</th>\n",
       "      <th>Num_Vehicule</th>\n",
       "      <th>Num_REMORQUE</th>\n",
       "      <th>Num_Client</th>\n",
       "      <th>Date_entrée</th>\n",
       "      <th>Heure_entrée</th>\n",
       "      <th>Date_sortie</th>\n",
       "      <th>Heure_sortie</th>\n",
       "      <th>Poids_chargé</th>\n",
       "      <th>Poids_vide</th>\n",
       "      <th>Pont_entrée</th>\n",
       "      <th>pont_Sortie</th>\n",
       "      <th>Produit</th>\n",
       "      <th>Liste noir</th>\n",
       "      <th>Liste rouge</th>\n",
       "      <th>Liste jaune</th>\n",
       "    </tr>\n",
       "  </thead>\n",
       "  <tbody>\n",
       "    <tr>\n",
       "      <th>0</th>\n",
       "      <td>Escale105</td>\n",
       "      <td>Vehicule1</td>\n",
       "      <td>Remorque1</td>\n",
       "      <td>Client1</td>\n",
       "      <td>2020-01-02</td>\n",
       "      <td>06:58</td>\n",
       "      <td>2020-01-02</td>\n",
       "      <td>08:48</td>\n",
       "      <td>43220.0</td>\n",
       "      <td>15760.0</td>\n",
       "      <td>14.0</td>\n",
       "      <td>14.0</td>\n",
       "      <td>TRTX DE SOJA</td>\n",
       "      <td>True</td>\n",
       "      <td>True</td>\n",
       "      <td>True</td>\n",
       "    </tr>\n",
       "    <tr>\n",
       "      <th>1</th>\n",
       "      <td>Escale106</td>\n",
       "      <td>Vehicule2</td>\n",
       "      <td>Remorque2</td>\n",
       "      <td>Client1</td>\n",
       "      <td>2020-01-02</td>\n",
       "      <td>07:00</td>\n",
       "      <td>2020-01-02</td>\n",
       "      <td>08:47</td>\n",
       "      <td>42460.0</td>\n",
       "      <td>16480.0</td>\n",
       "      <td>17.0</td>\n",
       "      <td>17.0</td>\n",
       "      <td>PULPE DE BETTRAVE</td>\n",
       "      <td>False</td>\n",
       "      <td>True</td>\n",
       "      <td>False</td>\n",
       "    </tr>\n",
       "    <tr>\n",
       "      <th>2</th>\n",
       "      <td>Escale106</td>\n",
       "      <td>Vehicule3</td>\n",
       "      <td>Remorque3</td>\n",
       "      <td>Client1</td>\n",
       "      <td>2020-01-02</td>\n",
       "      <td>07:02</td>\n",
       "      <td>2020-01-02</td>\n",
       "      <td>11:17</td>\n",
       "      <td>42940.0</td>\n",
       "      <td>16600.0</td>\n",
       "      <td>17.0</td>\n",
       "      <td>17.0</td>\n",
       "      <td>PULPE DE BETTRAVE</td>\n",
       "      <td>True</td>\n",
       "      <td>True</td>\n",
       "      <td>True</td>\n",
       "    </tr>\n",
       "    <tr>\n",
       "      <th>3</th>\n",
       "      <td>Escale105</td>\n",
       "      <td>Vehicule4</td>\n",
       "      <td>Remorque4</td>\n",
       "      <td>Client1</td>\n",
       "      <td>2020-01-02</td>\n",
       "      <td>07:03</td>\n",
       "      <td>2020-01-02</td>\n",
       "      <td>08:46</td>\n",
       "      <td>42560.0</td>\n",
       "      <td>14700.0</td>\n",
       "      <td>14.0</td>\n",
       "      <td>14.0</td>\n",
       "      <td>TRTX DE SOJA</td>\n",
       "      <td>False</td>\n",
       "      <td>True</td>\n",
       "      <td>True</td>\n",
       "    </tr>\n",
       "    <tr>\n",
       "      <th>4</th>\n",
       "      <td>Escale106</td>\n",
       "      <td>Vehicule5</td>\n",
       "      <td>Remorque5</td>\n",
       "      <td>Client1</td>\n",
       "      <td>2020-01-02</td>\n",
       "      <td>07:03</td>\n",
       "      <td>2020-01-02</td>\n",
       "      <td>10:05</td>\n",
       "      <td>42020.0</td>\n",
       "      <td>16300.0</td>\n",
       "      <td>17.0</td>\n",
       "      <td>17.0</td>\n",
       "      <td>PULPE DE BETTRAVE</td>\n",
       "      <td>True</td>\n",
       "      <td>True</td>\n",
       "      <td>True</td>\n",
       "    </tr>\n",
       "  </tbody>\n",
       "</table>\n",
       "</div>"
      ],
      "text/plain": [
       "  Num_escale Num_Vehicule Num_REMORQUE Num_Client Date_entrée Heure_entrée  \\\n",
       "0  Escale105    Vehicule1    Remorque1    Client1  2020-01-02        06:58   \n",
       "1  Escale106    Vehicule2    Remorque2    Client1  2020-01-02        07:00   \n",
       "2  Escale106    Vehicule3    Remorque3    Client1  2020-01-02        07:02   \n",
       "3  Escale105    Vehicule4    Remorque4    Client1  2020-01-02        07:03   \n",
       "4  Escale106    Vehicule5    Remorque5    Client1  2020-01-02        07:03   \n",
       "\n",
       "  Date_sortie Heure_sortie  Poids_chargé  Poids_vide  Pont_entrée  \\\n",
       "0  2020-01-02        08:48       43220.0     15760.0         14.0   \n",
       "1  2020-01-02        08:47       42460.0     16480.0         17.0   \n",
       "2  2020-01-02        11:17       42940.0     16600.0         17.0   \n",
       "3  2020-01-02        08:46       42560.0     14700.0         14.0   \n",
       "4  2020-01-02        10:05       42020.0     16300.0         17.0   \n",
       "\n",
       "   pont_Sortie            Produit Liste noir Liste rouge Liste jaune  \n",
       "0         14.0       TRTX DE SOJA       True        True        True  \n",
       "1         17.0  PULPE DE BETTRAVE      False        True       False  \n",
       "2         17.0  PULPE DE BETTRAVE       True        True        True  \n",
       "3         14.0       TRTX DE SOJA      False        True        True  \n",
       "4         17.0  PULPE DE BETTRAVE       True        True        True  "
      ]
     },
     "execution_count": 20,
     "metadata": {},
     "output_type": "execute_result"
    }
   ],
   "source": [
    "data_with_classes = pd.concat([df, listes_df], axis=1)\n",
    "data_with_classes.head()"
   ]
  },
  {
   "cell_type": "markdown",
   "metadata": {},
   "source": [
    "__5. Temps d’attente entre le poids à vide et poids totalement chargé à la sortie__"
   ]
  },
  {
   "cell_type": "code",
   "execution_count": 21,
   "metadata": {},
   "outputs": [],
   "source": [
    "data_with_time = data_with_classes.copy()"
   ]
  },
  {
   "cell_type": "code",
   "execution_count": 22,
   "metadata": {},
   "outputs": [],
   "source": [
    "t1 = data_with_time[\"Date_entrée\"].copy()\n",
    "t2 = data_with_time[\"Date_sortie\"].copy()"
   ]
  },
  {
   "cell_type": "code",
   "execution_count": 23,
   "metadata": {},
   "outputs": [],
   "source": [
    "date_dep = np.datetime_as_string(t1, unit='D') + (\" \" + data_with_time['Heure_entrée'])\n",
    "date_sor = np.datetime_as_string(t2, unit='D') + (\" \" + data_with_time['Heure_sortie'])"
   ]
  },
  {
   "cell_type": "code",
   "execution_count": 24,
   "metadata": {},
   "outputs": [],
   "source": [
    "date_dep = pd.to_datetime(date_dep)\n",
    "date_sor = pd.to_datetime(date_sor)"
   ]
  },
  {
   "cell_type": "code",
   "execution_count": 25,
   "metadata": {},
   "outputs": [],
   "source": [
    "data_with_time['Temps_attente'] = np.abs(date_sor - date_dep)"
   ]
  },
  {
   "cell_type": "code",
   "execution_count": 26,
   "metadata": {},
   "outputs": [
    {
     "data": {
      "text/html": [
       "<div>\n",
       "<style scoped>\n",
       "    .dataframe tbody tr th:only-of-type {\n",
       "        vertical-align: middle;\n",
       "    }\n",
       "\n",
       "    .dataframe tbody tr th {\n",
       "        vertical-align: top;\n",
       "    }\n",
       "\n",
       "    .dataframe thead th {\n",
       "        text-align: right;\n",
       "    }\n",
       "</style>\n",
       "<table border=\"1\" class=\"dataframe\">\n",
       "  <thead>\n",
       "    <tr style=\"text-align: right;\">\n",
       "      <th></th>\n",
       "      <th>Date_entrée</th>\n",
       "      <th>Heure_entrée</th>\n",
       "      <th>Date_sortie</th>\n",
       "      <th>Heure_sortie</th>\n",
       "      <th>Temps_attente</th>\n",
       "    </tr>\n",
       "  </thead>\n",
       "  <tbody>\n",
       "    <tr>\n",
       "      <th>0</th>\n",
       "      <td>2020-01-02</td>\n",
       "      <td>06:58</td>\n",
       "      <td>2020-01-02</td>\n",
       "      <td>08:48</td>\n",
       "      <td>01:50:00</td>\n",
       "    </tr>\n",
       "    <tr>\n",
       "      <th>1</th>\n",
       "      <td>2020-01-02</td>\n",
       "      <td>07:00</td>\n",
       "      <td>2020-01-02</td>\n",
       "      <td>08:47</td>\n",
       "      <td>01:47:00</td>\n",
       "    </tr>\n",
       "    <tr>\n",
       "      <th>2</th>\n",
       "      <td>2020-01-02</td>\n",
       "      <td>07:02</td>\n",
       "      <td>2020-01-02</td>\n",
       "      <td>11:17</td>\n",
       "      <td>04:15:00</td>\n",
       "    </tr>\n",
       "    <tr>\n",
       "      <th>3</th>\n",
       "      <td>2020-01-02</td>\n",
       "      <td>07:03</td>\n",
       "      <td>2020-01-02</td>\n",
       "      <td>08:46</td>\n",
       "      <td>01:43:00</td>\n",
       "    </tr>\n",
       "    <tr>\n",
       "      <th>4</th>\n",
       "      <td>2020-01-02</td>\n",
       "      <td>07:03</td>\n",
       "      <td>2020-01-02</td>\n",
       "      <td>10:05</td>\n",
       "      <td>03:02:00</td>\n",
       "    </tr>\n",
       "    <tr>\n",
       "      <th>5</th>\n",
       "      <td>2020-01-02</td>\n",
       "      <td>07:04</td>\n",
       "      <td>2020-01-02</td>\n",
       "      <td>10:22</td>\n",
       "      <td>03:18:00</td>\n",
       "    </tr>\n",
       "    <tr>\n",
       "      <th>6</th>\n",
       "      <td>2020-01-02</td>\n",
       "      <td>07:05</td>\n",
       "      <td>2020-01-02</td>\n",
       "      <td>09:27</td>\n",
       "      <td>02:22:00</td>\n",
       "    </tr>\n",
       "    <tr>\n",
       "      <th>7</th>\n",
       "      <td>2020-01-02</td>\n",
       "      <td>07:07</td>\n",
       "      <td>2020-01-02</td>\n",
       "      <td>09:07</td>\n",
       "      <td>02:00:00</td>\n",
       "    </tr>\n",
       "    <tr>\n",
       "      <th>8</th>\n",
       "      <td>2020-01-02</td>\n",
       "      <td>07:07</td>\n",
       "      <td>2020-01-02</td>\n",
       "      <td>09:28</td>\n",
       "      <td>02:21:00</td>\n",
       "    </tr>\n",
       "    <tr>\n",
       "      <th>9</th>\n",
       "      <td>2020-01-02</td>\n",
       "      <td>07:08</td>\n",
       "      <td>2020-01-02</td>\n",
       "      <td>09:42</td>\n",
       "      <td>02:34:00</td>\n",
       "    </tr>\n",
       "  </tbody>\n",
       "</table>\n",
       "</div>"
      ],
      "text/plain": [
       "  Date_entrée Heure_entrée Date_sortie Heure_sortie Temps_attente\n",
       "0  2020-01-02        06:58  2020-01-02        08:48      01:50:00\n",
       "1  2020-01-02        07:00  2020-01-02        08:47      01:47:00\n",
       "2  2020-01-02        07:02  2020-01-02        11:17      04:15:00\n",
       "3  2020-01-02        07:03  2020-01-02        08:46      01:43:00\n",
       "4  2020-01-02        07:03  2020-01-02        10:05      03:02:00\n",
       "5  2020-01-02        07:04  2020-01-02        10:22      03:18:00\n",
       "6  2020-01-02        07:05  2020-01-02        09:27      02:22:00\n",
       "7  2020-01-02        07:07  2020-01-02        09:07      02:00:00\n",
       "8  2020-01-02        07:07  2020-01-02        09:28      02:21:00\n",
       "9  2020-01-02        07:08  2020-01-02        09:42      02:34:00"
      ]
     },
     "execution_count": 26,
     "metadata": {},
     "output_type": "execute_result"
    }
   ],
   "source": [
    "data_with_time[['Date_entrée','Heure_entrée','Date_sortie','Heure_sortie','Temps_attente']].head(10)"
   ]
  },
  {
   "cell_type": "code",
   "execution_count": 27,
   "metadata": {},
   "outputs": [
    {
     "data": {
      "text/plain": [
       "count                     70606\n",
       "mean     0 days 07:27:15.604622\n",
       "std      0 days 12:26:11.159075\n",
       "min             0 days 00:00:00\n",
       "25%             0 days 01:26:00\n",
       "50%             0 days 02:36:00\n",
       "75%             0 days 05:22:00\n",
       "max             2 days 23:22:00\n",
       "Name: Temps_attente, dtype: object"
      ]
     },
     "execution_count": 27,
     "metadata": {},
     "output_type": "execute_result"
    }
   ],
   "source": [
    "data_with_time.Temps_attente.describe()"
   ]
  },
  {
   "cell_type": "markdown",
   "metadata": {},
   "source": [
    "*On test selon liste [noir, rouge, jaune] et on attribue un risque par degré:*"
   ]
  },
  {
   "cell_type": "code",
   "execution_count": 115,
   "metadata": {},
   "outputs": [],
   "source": [
    "def niveau_risque(list_donnee):\n",
    "    if list_donnee[0] is True:\n",
    "        return 3\n",
    "    elif list_donnee[1] is True:\n",
    "        return 2\n",
    "    elif list_donnee[2] is True:\n",
    "        return 1\n",
    "    return 0"
   ]
  },
  {
   "cell_type": "code",
   "execution_count": 116,
   "metadata": {},
   "outputs": [
    {
     "ename": "AttributeError",
     "evalue": "'list' object has no attribute 'apply'",
     "output_type": "error",
     "traceback": [
      "\u001b[1;31m---------------------------------------------------------------------------\u001b[0m",
      "\u001b[1;31mAttributeError\u001b[0m                            Traceback (most recent call last)",
      "\u001b[1;32m<ipython-input-116-6dc11dbe9537>\u001b[0m in \u001b[0;36m<module>\u001b[1;34m\u001b[0m\n\u001b[0;32m      1\u001b[0m \u001b[0mnouv_data\u001b[0m \u001b[1;33m=\u001b[0m \u001b[0mdata_with_time\u001b[0m\u001b[1;33m\u001b[0m\u001b[1;33m\u001b[0m\u001b[0m\n\u001b[1;32m----> 2\u001b[1;33m \u001b[0mnouv_data\u001b[0m\u001b[1;33m[\u001b[0m\u001b[1;34m'Degré_du_risque'\u001b[0m\u001b[1;33m]\u001b[0m \u001b[1;33m=\u001b[0m \u001b[1;33m[\u001b[0m\u001b[0mnouv_data\u001b[0m\u001b[1;33m[\u001b[0m\u001b[1;34m'Liste noir'\u001b[0m\u001b[1;33m]\u001b[0m\u001b[1;33m,\u001b[0m\u001b[0mnouv_data\u001b[0m\u001b[1;33m[\u001b[0m\u001b[1;34m'Liste rouge'\u001b[0m\u001b[1;33m]\u001b[0m\u001b[1;33m,\u001b[0m\u001b[0mnouv_data\u001b[0m\u001b[1;33m[\u001b[0m\u001b[1;34m'Liste jaune'\u001b[0m\u001b[1;33m]\u001b[0m\u001b[1;33m]\u001b[0m\u001b[1;33m.\u001b[0m\u001b[0mapply\u001b[0m\u001b[1;33m(\u001b[0m\u001b[0mniveau_risque\u001b[0m\u001b[1;33m)\u001b[0m\u001b[1;33m\u001b[0m\u001b[1;33m\u001b[0m\u001b[0m\n\u001b[0m",
      "\u001b[1;31mAttributeError\u001b[0m: 'list' object has no attribute 'apply'"
     ]
    }
   ],
   "source": [
    "nouv_data = data_with_time\n",
    "nouv_data['Degré_du_risque'] = [nouv_data['Liste noir'],nouv_data['Liste rouge'],nouv_data['Liste jaune']].apply(niveau_risque)"
   ]
  },
  {
   "cell_type": "markdown",
   "metadata": {},
   "source": [
    "__6. Analyse selon la destination__"
   ]
  },
  {
   "cell_type": "code",
   "execution_count": 28,
   "metadata": {},
   "outputs": [],
   "source": [
    "client_temps = data_with_time[['Num_Client','Temps_attente']]"
   ]
  },
  {
   "cell_type": "code",
   "execution_count": 29,
   "metadata": {},
   "outputs": [],
   "source": [
    "#client_temps.groupby(client_temps.Num_Client).head()"
   ]
  },
  {
   "cell_type": "code",
   "execution_count": 30,
   "metadata": {},
   "outputs": [],
   "source": [
    "clt = client_temps.Num_Client.unique()\n",
    "moy_t = list()\n",
    "for i in range(len(clt)):\n",
    "    moy_t.append(client_temps[client_temps.Num_Client==clt[i]].mean()[0])"
   ]
  },
  {
   "cell_type": "code",
   "execution_count": 31,
   "metadata": {},
   "outputs": [],
   "source": [
    "data_cm={\n",
    "    'Client' : clt,\n",
    "    'Moy_temps_attente' : moy_t\n",
    "}"
   ]
  },
  {
   "cell_type": "code",
   "execution_count": 32,
   "metadata": {},
   "outputs": [
    {
     "data": {
      "text/html": [
       "<div>\n",
       "<style scoped>\n",
       "    .dataframe tbody tr th:only-of-type {\n",
       "        vertical-align: middle;\n",
       "    }\n",
       "\n",
       "    .dataframe tbody tr th {\n",
       "        vertical-align: top;\n",
       "    }\n",
       "\n",
       "    .dataframe thead th {\n",
       "        text-align: right;\n",
       "    }\n",
       "</style>\n",
       "<table border=\"1\" class=\"dataframe\">\n",
       "  <thead>\n",
       "    <tr style=\"text-align: right;\">\n",
       "      <th></th>\n",
       "      <th>Client</th>\n",
       "      <th>Moy_temps_attente</th>\n",
       "    </tr>\n",
       "  </thead>\n",
       "  <tbody>\n",
       "    <tr>\n",
       "      <th>0</th>\n",
       "      <td>Client1</td>\n",
       "      <td>08:48:04.247830</td>\n",
       "    </tr>\n",
       "    <tr>\n",
       "      <th>1</th>\n",
       "      <td>Client2</td>\n",
       "      <td>05:53:21.443385</td>\n",
       "    </tr>\n",
       "    <tr>\n",
       "      <th>2</th>\n",
       "      <td>Client3</td>\n",
       "      <td>01:28:38.592233</td>\n",
       "    </tr>\n",
       "    <tr>\n",
       "      <th>3</th>\n",
       "      <td>Client4</td>\n",
       "      <td>02:02:59.150943</td>\n",
       "    </tr>\n",
       "    <tr>\n",
       "      <th>4</th>\n",
       "      <td>Client5</td>\n",
       "      <td>01:20:00</td>\n",
       "    </tr>\n",
       "    <tr>\n",
       "      <th>6</th>\n",
       "      <td>Client6</td>\n",
       "      <td>07:08:13.349633</td>\n",
       "    </tr>\n",
       "    <tr>\n",
       "      <th>7</th>\n",
       "      <td>Client7</td>\n",
       "      <td>06:45:54.268292</td>\n",
       "    </tr>\n",
       "    <tr>\n",
       "      <th>8</th>\n",
       "      <td>Client8</td>\n",
       "      <td>07:16:26.686585</td>\n",
       "    </tr>\n",
       "    <tr>\n",
       "      <th>9</th>\n",
       "      <td>Client9</td>\n",
       "      <td>02:12:45</td>\n",
       "    </tr>\n",
       "    <tr>\n",
       "      <th>10</th>\n",
       "      <td>Client10</td>\n",
       "      <td>09:04:51.561325</td>\n",
       "    </tr>\n",
       "    <tr>\n",
       "      <th>11</th>\n",
       "      <td>Client11</td>\n",
       "      <td>10:30:51.428571</td>\n",
       "    </tr>\n",
       "    <tr>\n",
       "      <th>12</th>\n",
       "      <td>Client12</td>\n",
       "      <td>06:26:37.101977</td>\n",
       "    </tr>\n",
       "    <tr>\n",
       "      <th>13</th>\n",
       "      <td>Client13</td>\n",
       "      <td>03:40:05</td>\n",
       "    </tr>\n",
       "    <tr>\n",
       "      <th>14</th>\n",
       "      <td>Client14</td>\n",
       "      <td>07:07:47.396449</td>\n",
       "    </tr>\n",
       "    <tr>\n",
       "      <th>15</th>\n",
       "      <td>Client15</td>\n",
       "      <td>01:20:30.957446</td>\n",
       "    </tr>\n",
       "    <tr>\n",
       "      <th>16</th>\n",
       "      <td>Client16</td>\n",
       "      <td>03:24:55.787476</td>\n",
       "    </tr>\n",
       "    <tr>\n",
       "      <th>17</th>\n",
       "      <td>Client17</td>\n",
       "      <td>01:08:00</td>\n",
       "    </tr>\n",
       "    <tr>\n",
       "      <th>18</th>\n",
       "      <td>Client18</td>\n",
       "      <td>00:50:08.743315</td>\n",
       "    </tr>\n",
       "    <tr>\n",
       "      <th>19</th>\n",
       "      <td>Client19</td>\n",
       "      <td>02:37:39.534883</td>\n",
       "    </tr>\n",
       "    <tr>\n",
       "      <th>20</th>\n",
       "      <td>Client20</td>\n",
       "      <td>08:45:07.917525</td>\n",
       "    </tr>\n",
       "    <tr>\n",
       "      <th>21</th>\n",
       "      <td>Client21</td>\n",
       "      <td>05:00:51.685855</td>\n",
       "    </tr>\n",
       "    <tr>\n",
       "      <th>22</th>\n",
       "      <td>Client22</td>\n",
       "      <td>04:08:37.580071</td>\n",
       "    </tr>\n",
       "    <tr>\n",
       "      <th>23</th>\n",
       "      <td>Client23</td>\n",
       "      <td>08:27:50.789473</td>\n",
       "    </tr>\n",
       "    <tr>\n",
       "      <th>24</th>\n",
       "      <td>Client24</td>\n",
       "      <td>00:41:30</td>\n",
       "    </tr>\n",
       "    <tr>\n",
       "      <th>25</th>\n",
       "      <td>Client25</td>\n",
       "      <td>04:51:00</td>\n",
       "    </tr>\n",
       "    <tr>\n",
       "      <th>26</th>\n",
       "      <td>Client26</td>\n",
       "      <td>00:40:48</td>\n",
       "    </tr>\n",
       "  </tbody>\n",
       "</table>\n",
       "</div>"
      ],
      "text/plain": [
       "      Client Moy_temps_attente\n",
       "0    Client1   08:48:04.247830\n",
       "1    Client2   05:53:21.443385\n",
       "2    Client3   01:28:38.592233\n",
       "3    Client4   02:02:59.150943\n",
       "4    Client5          01:20:00\n",
       "6    Client6   07:08:13.349633\n",
       "7    Client7   06:45:54.268292\n",
       "8    Client8   07:16:26.686585\n",
       "9    Client9          02:12:45\n",
       "10  Client10   09:04:51.561325\n",
       "11  Client11   10:30:51.428571\n",
       "12  Client12   06:26:37.101977\n",
       "13  Client13          03:40:05\n",
       "14  Client14   07:07:47.396449\n",
       "15  Client15   01:20:30.957446\n",
       "16  Client16   03:24:55.787476\n",
       "17  Client17          01:08:00\n",
       "18  Client18   00:50:08.743315\n",
       "19  Client19   02:37:39.534883\n",
       "20  Client20   08:45:07.917525\n",
       "21  Client21   05:00:51.685855\n",
       "22  Client22   04:08:37.580071\n",
       "23  Client23   08:27:50.789473\n",
       "24  Client24          00:41:30\n",
       "25  Client25          04:51:00\n",
       "26  Client26          00:40:48"
      ]
     },
     "execution_count": 32,
     "metadata": {},
     "output_type": "execute_result"
    }
   ],
   "source": [
    "dfd = pd.DataFrame.from_dict(data_cm).dropna()\n",
    "dfd"
   ]
  },
  {
   "cell_type": "code",
   "execution_count": 58,
   "metadata": {},
   "outputs": [],
   "source": [
    "dfd=dfd.set_index('Client')"
   ]
  },
  {
   "cell_type": "code",
   "execution_count": 72,
   "metadata": {},
   "outputs": [
    {
     "data": {
      "text/plain": [
       "Index(['Client1', 'Client2', 'Client3', 'Client4', 'Client5', 'Client6',\n",
       "       'Client7', 'Client8', 'Client9', 'Client10', 'Client11', 'Client12',\n",
       "       'Client13', 'Client14', 'Client15', 'Client16', 'Client17', 'Client18',\n",
       "       'Client19', 'Client20', 'Client21', 'Client22', 'Client23', 'Client24',\n",
       "       'Client25', 'Client26'],\n",
       "      dtype='object', name='Client')"
      ]
     },
     "execution_count": 72,
     "metadata": {},
     "output_type": "execute_result"
    }
   ],
   "source": [
    "dfd.index"
   ]
  },
  {
   "cell_type": "code",
   "execution_count": 89,
   "metadata": {},
   "outputs": [
    {
     "data": {
      "image/png": "[encoded data removed]",
      "text/plain": [
       "<Figure size 576x360 with 1 Axes>"
      ]
     },
     "metadata": {
      "needs_background": "light"
     },
     "output_type": "display_data"
    }
   ],
   "source": [
    "x=dfd.index;\n",
    "fig = plt.figure(1, figsize=(8, 5));\n",
    "plt.plot(x,dfd.Moy_temps_attente);\n",
    "labels=x;\n",
    "plt.xticks(x,labels, rotation='vertical');\n"
   ]
  },
  {
   "cell_type": "markdown",
   "metadata": {},
   "source": [
    "__7. Analyse selon la matière première__"
   ]
  },
  {
   "cell_type": "code",
   "execution_count": 34,
   "metadata": {},
   "outputs": [],
   "source": [
    "client_temps2 = data_with_time[['Produit','Temps_attente']]"
   ]
  },
  {
   "cell_type": "code",
   "execution_count": 35,
   "metadata": {},
   "outputs": [],
   "source": [
    "clt2 = client_temps2.Produit.unique()\n",
    "moy_t2 = list()\n",
    "for i in range(len(clt2)):\n",
    "    moy_t2.append(client_temps[client_temps2.Produit==clt2[i]].mean()[0])"
   ]
  },
  {
   "cell_type": "code",
   "execution_count": 36,
   "metadata": {},
   "outputs": [],
   "source": [
    "data_cm2={\n",
    "    'Produit' : clt2,\n",
    "    'Moy_temps_attente' : moy_t2\n",
    "}\n"
   ]
  },
  {
   "cell_type": "code",
   "execution_count": 37,
   "metadata": {},
   "outputs": [
    {
     "data": {
      "text/html": [
       "<div>\n",
       "<style scoped>\n",
       "    .dataframe tbody tr th:only-of-type {\n",
       "        vertical-align: middle;\n",
       "    }\n",
       "\n",
       "    .dataframe tbody tr th {\n",
       "        vertical-align: top;\n",
       "    }\n",
       "\n",
       "    .dataframe thead th {\n",
       "        text-align: right;\n",
       "    }\n",
       "</style>\n",
       "<table border=\"1\" class=\"dataframe\">\n",
       "  <thead>\n",
       "    <tr style=\"text-align: right;\">\n",
       "      <th></th>\n",
       "      <th>Produit</th>\n",
       "      <th>Moy_temps_attente</th>\n",
       "    </tr>\n",
       "  </thead>\n",
       "  <tbody>\n",
       "    <tr>\n",
       "      <th>0</th>\n",
       "      <td>TRTX DE SOJA</td>\n",
       "      <td>10:35:24.092801</td>\n",
       "    </tr>\n",
       "    <tr>\n",
       "      <th>1</th>\n",
       "      <td>PULPE DE BETTRAVE</td>\n",
       "      <td>03:25:28.629080</td>\n",
       "    </tr>\n",
       "    <tr>\n",
       "      <th>2</th>\n",
       "      <td>TRTX  SOJA</td>\n",
       "      <td>03:32:12.209302</td>\n",
       "    </tr>\n",
       "    <tr>\n",
       "      <th>3</th>\n",
       "      <td>ferraille</td>\n",
       "      <td>01:40:28.104089</td>\n",
       "    </tr>\n",
       "    <tr>\n",
       "      <th>4</th>\n",
       "      <td>SABLE</td>\n",
       "      <td>02:02:59.150943</td>\n",
       "    </tr>\n",
       "    <tr>\n",
       "      <th>5</th>\n",
       "      <td>DDGS</td>\n",
       "      <td>07:30:41.071287</td>\n",
       "    </tr>\n",
       "    <tr>\n",
       "      <th>6</th>\n",
       "      <td>SEL GEMME</td>\n",
       "      <td>01:20:00</td>\n",
       "    </tr>\n",
       "    <tr>\n",
       "      <th>7</th>\n",
       "      <td>SON DE BLE</td>\n",
       "      <td>03:25:48.926108</td>\n",
       "    </tr>\n",
       "    <tr>\n",
       "      <th>8</th>\n",
       "      <td>FERRAILLE</td>\n",
       "      <td>01:25:21.220268</td>\n",
       "    </tr>\n",
       "    <tr>\n",
       "      <th>10</th>\n",
       "      <td>huile brute de soja</td>\n",
       "      <td>08:43:28.199445</td>\n",
       "    </tr>\n",
       "    <tr>\n",
       "      <th>11</th>\n",
       "      <td>BOIS DE FARDAGE</td>\n",
       "      <td>01:56:00</td>\n",
       "    </tr>\n",
       "    <tr>\n",
       "      <th>12</th>\n",
       "      <td>MAIS</td>\n",
       "      <td>10:36:48.572096</td>\n",
       "    </tr>\n",
       "    <tr>\n",
       "      <th>13</th>\n",
       "      <td>CHARBON</td>\n",
       "      <td>06:37:37.720406</td>\n",
       "    </tr>\n",
       "    <tr>\n",
       "      <th>14</th>\n",
       "      <td>VRAC  D'ARGILE</td>\n",
       "      <td>03:40:05</td>\n",
       "    </tr>\n",
       "    <tr>\n",
       "      <th>15</th>\n",
       "      <td>TRTX DE COLZA</td>\n",
       "      <td>03:45:08.918918</td>\n",
       "    </tr>\n",
       "    <tr>\n",
       "      <th>16</th>\n",
       "      <td>TRT DE TOURNESOL</td>\n",
       "      <td>05:02:22.215505</td>\n",
       "    </tr>\n",
       "    <tr>\n",
       "      <th>17</th>\n",
       "      <td>BLE TENDRE</td>\n",
       "      <td>07:27:57.603881</td>\n",
       "    </tr>\n",
       "    <tr>\n",
       "      <th>18</th>\n",
       "      <td>KHARROUB CONCASSEES</td>\n",
       "      <td>01:41:01.025641</td>\n",
       "    </tr>\n",
       "    <tr>\n",
       "      <th>19</th>\n",
       "      <td>V DDGS</td>\n",
       "      <td>09:43:33.084112</td>\n",
       "    </tr>\n",
       "    <tr>\n",
       "      <th>20</th>\n",
       "      <td>COQUE DE SOJA</td>\n",
       "      <td>05:50:35.310187</td>\n",
       "    </tr>\n",
       "    <tr>\n",
       "      <th>21</th>\n",
       "      <td>V GLUTEN</td>\n",
       "      <td>03:00:44.854368</td>\n",
       "    </tr>\n",
       "    <tr>\n",
       "      <th>22</th>\n",
       "      <td>huile  de soja</td>\n",
       "      <td>04:27:11.086956</td>\n",
       "    </tr>\n",
       "    <tr>\n",
       "      <th>23</th>\n",
       "      <td>HUILE DE SOJA</td>\n",
       "      <td>09:30:36.160714</td>\n",
       "    </tr>\n",
       "    <tr>\n",
       "      <th>24</th>\n",
       "      <td>ARGILE</td>\n",
       "      <td>03:26:22.247191</td>\n",
       "    </tr>\n",
       "    <tr>\n",
       "      <th>25</th>\n",
       "      <td>CORN GLUTEN</td>\n",
       "      <td>05:16:15.175644</td>\n",
       "    </tr>\n",
       "    <tr>\n",
       "      <th>26</th>\n",
       "      <td>PNEUS DECHIQUETES</td>\n",
       "      <td>00:48:01.650000</td>\n",
       "    </tr>\n",
       "    <tr>\n",
       "      <th>27</th>\n",
       "      <td>25 TOLES EN ACIERS</td>\n",
       "      <td>01:08:00</td>\n",
       "    </tr>\n",
       "    <tr>\n",
       "      <th>28</th>\n",
       "      <td>VRAC D' ANTHRACITE</td>\n",
       "      <td>03:09:08.275862</td>\n",
       "    </tr>\n",
       "    <tr>\n",
       "      <th>29</th>\n",
       "      <td>RECUPERATION CORDAGE</td>\n",
       "      <td>02:07:30</td>\n",
       "    </tr>\n",
       "    <tr>\n",
       "      <th>30</th>\n",
       "      <td>mais</td>\n",
       "      <td>04:02:33.939393</td>\n",
       "    </tr>\n",
       "    <tr>\n",
       "      <th>31</th>\n",
       "      <td>COKE DE PETROLE</td>\n",
       "      <td>00:50:08.743315</td>\n",
       "    </tr>\n",
       "    <tr>\n",
       "      <th>32</th>\n",
       "      <td>TRTX TOURNESOL</td>\n",
       "      <td>07:06:57.600000</td>\n",
       "    </tr>\n",
       "    <tr>\n",
       "      <th>33</th>\n",
       "      <td>BLE  DUR</td>\n",
       "      <td>09:43:58.476420</td>\n",
       "    </tr>\n",
       "    <tr>\n",
       "      <th>34</th>\n",
       "      <td>ble dur</td>\n",
       "      <td>04:03:02.368421</td>\n",
       "    </tr>\n",
       "    <tr>\n",
       "      <th>35</th>\n",
       "      <td>huile brute de tournesol</td>\n",
       "      <td>06:24:58.378378</td>\n",
       "    </tr>\n",
       "    <tr>\n",
       "      <th>36</th>\n",
       "      <td>HUILE BRUTE DE PALME</td>\n",
       "      <td>08:27:50.789473</td>\n",
       "    </tr>\n",
       "    <tr>\n",
       "      <th>37</th>\n",
       "      <td>RECUPERATION DE FARDAGE</td>\n",
       "      <td>00:42:00</td>\n",
       "    </tr>\n",
       "    <tr>\n",
       "      <th>38</th>\n",
       "      <td>HUILE BRUTE DE SOJA</td>\n",
       "      <td>05:26:28.474576</td>\n",
       "    </tr>\n",
       "    <tr>\n",
       "      <th>39</th>\n",
       "      <td>pesage ferraille recuperation</td>\n",
       "      <td>02:40:00</td>\n",
       "    </tr>\n",
       "    <tr>\n",
       "      <th>40</th>\n",
       "      <td>TRTX DETOURNESOL</td>\n",
       "      <td>02:02:10.700636</td>\n",
       "    </tr>\n",
       "    <tr>\n",
       "      <th>41</th>\n",
       "      <td>PESAGE DE BOIS DED RECUPERATION</td>\n",
       "      <td>04:51:00</td>\n",
       "    </tr>\n",
       "    <tr>\n",
       "      <th>42</th>\n",
       "      <td>ORGE</td>\n",
       "      <td>05:07:11.214099</td>\n",
       "    </tr>\n",
       "    <tr>\n",
       "      <th>43</th>\n",
       "      <td>S/BLE</td>\n",
       "      <td>02:47:25.263157</td>\n",
       "    </tr>\n",
       "    <tr>\n",
       "      <th>44</th>\n",
       "      <td>AVOINE</td>\n",
       "      <td>07:54:19.480519</td>\n",
       "    </tr>\n",
       "    <tr>\n",
       "      <th>45</th>\n",
       "      <td>GRAINE DE SOJA</td>\n",
       "      <td>08:12:49.744728</td>\n",
       "    </tr>\n",
       "    <tr>\n",
       "      <th>46</th>\n",
       "      <td>hydroxyde d aluminium</td>\n",
       "      <td>01:44:26.400000</td>\n",
       "    </tr>\n",
       "    <tr>\n",
       "      <th>47</th>\n",
       "      <td>VRAC ORGE</td>\n",
       "      <td>14:38:18</td>\n",
       "    </tr>\n",
       "    <tr>\n",
       "      <th>48</th>\n",
       "      <td>GLUTEN DE MAIS</td>\n",
       "      <td>11:38:22.774869</td>\n",
       "    </tr>\n",
       "    <tr>\n",
       "      <th>49</th>\n",
       "      <td>trtx  soja   bulletin complement du prest 2020...</td>\n",
       "      <td>05:59:30</td>\n",
       "    </tr>\n",
       "    <tr>\n",
       "      <th>50</th>\n",
       "      <td>HUILE BRUTE DE TOURNESOL</td>\n",
       "      <td>09:53:53.513513</td>\n",
       "    </tr>\n",
       "    <tr>\n",
       "      <th>51</th>\n",
       "      <td>nouveu bois usagee</td>\n",
       "      <td>00:41:00</td>\n",
       "    </tr>\n",
       "    <tr>\n",
       "      <th>52</th>\n",
       "      <td>lot de frdx steel billets</td>\n",
       "      <td>00:40:48</td>\n",
       "    </tr>\n",
       "  </tbody>\n",
       "</table>\n",
       "</div>"
      ],
      "text/plain": [
       "                                              Produit Moy_temps_attente\n",
       "0                                        TRTX DE SOJA   10:35:24.092801\n",
       "1                                   PULPE DE BETTRAVE   03:25:28.629080\n",
       "2                                          TRTX  SOJA   03:32:12.209302\n",
       "3                                           ferraille   01:40:28.104089\n",
       "4                                               SABLE   02:02:59.150943\n",
       "5                                                DDGS   07:30:41.071287\n",
       "6                                           SEL GEMME          01:20:00\n",
       "7                                          SON DE BLE   03:25:48.926108\n",
       "8                                           FERRAILLE   01:25:21.220268\n",
       "10                                huile brute de soja   08:43:28.199445\n",
       "11                                    BOIS DE FARDAGE          01:56:00\n",
       "12                                               MAIS   10:36:48.572096\n",
       "13                                            CHARBON   06:37:37.720406\n",
       "14                                     VRAC  D'ARGILE          03:40:05\n",
       "15                                      TRTX DE COLZA   03:45:08.918918\n",
       "16                                   TRT DE TOURNESOL   05:02:22.215505\n",
       "17                                         BLE TENDRE   07:27:57.603881\n",
       "18                                KHARROUB CONCASSEES   01:41:01.025641\n",
       "19                                             V DDGS   09:43:33.084112\n",
       "20                                      COQUE DE SOJA   05:50:35.310187\n",
       "21                                           V GLUTEN   03:00:44.854368\n",
       "22                                     huile  de soja   04:27:11.086956\n",
       "23                                      HUILE DE SOJA   09:30:36.160714\n",
       "24                                             ARGILE   03:26:22.247191\n",
       "25                                        CORN GLUTEN   05:16:15.175644\n",
       "26                                  PNEUS DECHIQUETES   00:48:01.650000\n",
       "27                                 25 TOLES EN ACIERS          01:08:00\n",
       "28                                 VRAC D' ANTHRACITE   03:09:08.275862\n",
       "29                               RECUPERATION CORDAGE          02:07:30\n",
       "30                                               mais   04:02:33.939393\n",
       "31                                    COKE DE PETROLE   00:50:08.743315\n",
       "32                                     TRTX TOURNESOL   07:06:57.600000\n",
       "33                                           BLE  DUR   09:43:58.476420\n",
       "34                                            ble dur   04:03:02.368421\n",
       "35                           huile brute de tournesol   06:24:58.378378\n",
       "36                               HUILE BRUTE DE PALME   08:27:50.789473\n",
       "37                            RECUPERATION DE FARDAGE          00:42:00\n",
       "38                                HUILE BRUTE DE SOJA   05:26:28.474576\n",
       "39                      pesage ferraille recuperation          02:40:00\n",
       "40                                   TRTX DETOURNESOL   02:02:10.700636\n",
       "41                    PESAGE DE BOIS DED RECUPERATION          04:51:00\n",
       "42                                               ORGE   05:07:11.214099\n",
       "43                                              S/BLE   02:47:25.263157\n",
       "44                                             AVOINE   07:54:19.480519\n",
       "45                                     GRAINE DE SOJA   08:12:49.744728\n",
       "46                              hydroxyde d aluminium   01:44:26.400000\n",
       "47                                          VRAC ORGE          14:38:18\n",
       "48                                     GLUTEN DE MAIS   11:38:22.774869\n",
       "49  trtx  soja   bulletin complement du prest 2020...          05:59:30\n",
       "50                           HUILE BRUTE DE TOURNESOL   09:53:53.513513\n",
       "51                                 nouveu bois usagee          00:41:00\n",
       "52                          lot de frdx steel billets          00:40:48"
      ]
     },
     "execution_count": 37,
     "metadata": {},
     "output_type": "execute_result"
    }
   ],
   "source": [
    "dfd2 = pd.DataFrame.from_dict(data_cm2).dropna()\n",
    "dfd2"
   ]
  },
  {
   "cell_type": "code",
   "execution_count": 38,
   "metadata": {},
   "outputs": [
    {
     "data": {
      "text/plain": [
       "<matplotlib.axes._subplots.AxesSubplot at 0x203139d8d48>"
      ]
     },
     "execution_count": 38,
     "metadata": {},
     "output_type": "execute_result"
    },
    {
     "data": {
      "image/png": "[encoded data removed]",
      "text/plain": [
       "<Figure size 432x288 with 1 Axes>"
      ]
     },
     "metadata": {
      "needs_background": "light"
     },
     "output_type": "display_data"
    }
   ],
   "source": [
    "dfd2.plot.line()"
   ]
  },
  {
   "cell_type": "markdown",
   "metadata": {},
   "source": [
    "__8. Pesage chez différent pont bascule : entrée par un pont bascule et sortie par un autre : les camions  se présentant dans des ponts différents sont-ils susceptibles de frauder ?__"
   ]
  },
  {
   "cell_type": "code",
   "execution_count": null,
   "metadata": {},
   "outputs": [],
   "source": []
  },
  {
   "cell_type": "markdown",
   "metadata": {},
   "source": [
    "__9. Analyse de saisonnalité :__\n",
    "    1. Ecart par mois\n",
    "    2. Ecart par Tranche horaire : Matin, après-midi, soir\n",
    "    3. Période avant Covid (avant le 16 mars) et pendant Covid"
   ]
  },
  {
   "cell_type": "markdown",
   "metadata": {},
   "source": [
    "__&ensp;&ensp;&ensp;9.1. Ecart par mois__"
   ]
  },
  {
   "cell_type": "code",
   "execution_count": 39,
   "metadata": {},
   "outputs": [],
   "source": [
    "DF1 = data_with_time\n",
    "DF1['month']=pd.DatetimeIndex(DF1[\"Date_entrée\"]).month\n",
    "DF1['hour']=pd.DatetimeIndex(DF1[\"Heure_entrée\"]).hour"
   ]
  },
  {
   "cell_type": "code",
   "execution_count": 40,
   "metadata": {},
   "outputs": [
    {
     "data": {
      "text/plain": [
       "month\n",
       "1.0   2778 days 00:28:00\n",
       "2.0   2325 days 02:38:00\n",
       "3.0   3544 days 21:03:00\n",
       "4.0   5893 days 21:48:00\n",
       "5.0   5449 days 02:48:00\n",
       "6.0   1939 days 00:00:00\n",
       "Name: Temps_attente, dtype: timedelta64[ns]"
      ]
     },
     "execution_count": 40,
     "metadata": {},
     "output_type": "execute_result"
    }
   ],
   "source": [
    "DF1.Temps_attente.groupby(by=[DF1.month]).sum()"
   ]
  },
  {
   "cell_type": "code",
   "execution_count": null,
   "metadata": {},
   "outputs": [],
   "source": []
  },
  {
   "cell_type": "markdown",
   "metadata": {},
   "source": [
    "__&ensp;&ensp;&ensp;9.2. Ecart par Tranche horaire : Matin, après-midi, soir__"
   ]
  },
  {
   "cell_type": "code",
   "execution_count": 41,
   "metadata": {},
   "outputs": [],
   "source": [
    "#DF1.Temps_attente.groupby(by=[DF1.hour]).sum()"
   ]
  },
  {
   "cell_type": "code",
   "execution_count": 42,
   "metadata": {},
   "outputs": [],
   "source": [
    "def apply_period(hour):\n",
    "    if hour in range(4,12):\n",
    "        return \"Matin\"\n",
    "    elif hour in range(12,20):\n",
    "        return \"Après-Midi\"\n",
    "    else:\n",
    "        return \"Soir\""
   ]
  },
  {
   "cell_type": "code",
   "execution_count": 43,
   "metadata": {},
   "outputs": [],
   "source": [
    "DF1['Période']=DF1['hour'].apply(apply_period)"
   ]
  },
  {
   "cell_type": "code",
   "execution_count": 44,
   "metadata": {},
   "outputs": [
    {
     "data": {
      "text/plain": [
       "Période\n",
       "Après-Midi   7220 days 13:04:00\n",
       "Matin        4777 days 02:09:00\n",
       "Soir         9932 days 09:32:00\n",
       "Name: Temps_attente, dtype: timedelta64[ns]"
      ]
     },
     "execution_count": 44,
     "metadata": {},
     "output_type": "execute_result"
    }
   ],
   "source": [
    "DF1.Temps_attente.groupby(by=[DF1.Période]).sum()"
   ]
  },
  {
   "cell_type": "markdown",
   "metadata": {},
   "source": [
    "__&ensp;&ensp;&ensp;9.3. Période avant Covid (avant le 16 mars) et pendant Covid__"
   ]
  },
  {
   "cell_type": "code",
   "execution_count": 45,
   "metadata": {},
   "outputs": [],
   "source": [
    "from datetime import datetime\n",
    "DF1['Covid']=(date_dep).apply(lambda x: \"Après\" if (x > pd.to_datetime('2020-03-16 00:00:00')) else \"Avant\")"
   ]
  },
  {
   "cell_type": "code",
   "execution_count": 46,
   "metadata": {},
   "outputs": [
    {
     "data": {
      "text/plain": [
       "Covid\n",
       "Après   15370 days 00:59:00\n",
       "Avant    6559 days 23:46:00\n",
       "Name: Temps_attente, dtype: timedelta64[ns]"
      ]
     },
     "execution_count": 46,
     "metadata": {},
     "output_type": "execute_result"
    }
   ],
   "source": [
    "DF1.Temps_attente.groupby(by=[DF1['Covid']]).sum()"
   ]
  },
  {
   "cell_type": "markdown",
   "metadata": {},
   "source": [
    "__10. En faisant appel au technique d’apprentissage automatique, pourriez-vous classer les transporteurs par niveau de risque, afin de proposer des contrôles détaillés sur les transporteurs à risque.__"
   ]
  },
  {
   "cell_type": "code",
   "execution_count": null,
   "metadata": {},
   "outputs": [],
   "source": []
  }
 ],
 "metadata": {
  "kernelspec": {
   "display_name": "Python 3",
   "language": "python",
   "name": "python3"
  },
  "language_info": {
   "codemirror_mode": {
    "name": "ipython",
    "version": 3
   },
   "file_extension": ".py",
   "mimetype": "text/x-python",
   "name": "python",
   "nbconvert_exporter": "python",
   "pygments_lexer": "ipython3",
   "version": "3.8.5"
  }
 },
 "nbformat": 4,
 "nbformat_minor": 4
}
